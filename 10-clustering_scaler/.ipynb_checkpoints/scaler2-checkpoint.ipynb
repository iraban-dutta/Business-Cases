{
 "cells": [
  {
   "cell_type": "code",
   "execution_count": null,
   "id": "12e33875-1886-4e66-a3ad-836054a2a049",
   "metadata": {},
   "outputs": [],
   "source": [
    "# !pip install python-Levenshtein\n",
    "# !pip install fuzzywuzzy\n",
    "\n",
    "import warnings\n",
    "warnings.simplefilter(action='ignore', category=FutureWarning)\n",
    "\n",
    "import numpy as np\n",
    "import pandas as pd\n",
    "import matplotlib.pyplot as plt\n",
    "import seaborn as sns\n",
    "from fuzzywuzzy import fuzz\n",
    "\n",
    "# from scipy.stats import levene, f_oneway, kruskal\n",
    "# from scipy.stats import ttest_ind\n",
    "# from scipy.stats import chi2_contingency\n",
    "# from statsmodels.graphics.gofplots import qqplot\n",
    "\n",
    "from sklearn.pipeline import Pipeline\n",
    "\n",
    "from sklearn.preprocessing import LabelEncoder, OneHotEncoder\n",
    "from sklearn.preprocessing import StandardScaler, MinMaxScaler\n",
    "from sklearn.impute import KNNImputer\n",
    "\n",
    "from sklearn.cluster import KMeans, MiniBatchKMeans\n",
    "from sklearn.decomposition import PCA\n",
    "\n",
    "from sklearn.metrics import silhouette_score\n",
    "from scipy.spatial.distance import pdist, squareform\n",
    "\n",
    "\n",
    "import plotly.express as px\n",
    "\n",
    "import scipy.cluster.hierarchy as sch"
   ]
  },
  {
   "cell_type": "code",
   "execution_count": null,
   "id": "4c432684-fbaf-48dd-8cee-a9f14da2c2e4",
   "metadata": {},
   "outputs": [],
   "source": []
  },
  {
   "cell_type": "code",
   "execution_count": null,
   "id": "367e8e89-10b0-4713-8074-916277ee34a8",
   "metadata": {},
   "outputs": [],
   "source": [
    "df_final4 = pd.read_csv('./data/scaler_clean_feat_eng.csv')\n",
    "df_final4.drop(['email_hash', 'company_hash', 'job_position', 'ctc_updated_year', 'ctc'], axis=1, inplace=True)\n",
    "df_final4.head()"
   ]
  },
  {
   "cell_type": "code",
   "execution_count": null,
   "id": "29003d5f-2064-42d1-abf4-ace9d12eefd2",
   "metadata": {},
   "outputs": [],
   "source": [
    "df_final4.shape"
   ]
  },
  {
   "cell_type": "code",
   "execution_count": null,
   "id": "1f6e7691-2e26-4566-9d43-d179ec11bfd5",
   "metadata": {},
   "outputs": [],
   "source": []
  },
  {
   "cell_type": "code",
   "execution_count": null,
   "id": "cb0370ce-3823-4279-9036-2ba8af646698",
   "metadata": {},
   "outputs": [],
   "source": [
    "retain_sample_pct = 0.3\n",
    "rows_to_retain = round(retain_sample_pct*df_final4.shape[0])\n",
    "# rows_to_retain\n",
    "df_final4_sample = df_final4.sample(rows_to_retain).copy()\n",
    "df_final4_sample.shape"
   ]
  },
  {
   "cell_type": "code",
   "execution_count": null,
   "id": "5b8e2bd3-f96f-4a90-898e-01abd47d5d95",
   "metadata": {},
   "outputs": [],
   "source": []
  },
  {
   "cell_type": "code",
   "execution_count": null,
   "id": "da1fdf24-9654-463d-ae1f-72beeac534e4",
   "metadata": {},
   "outputs": [],
   "source": []
  },
  {
   "cell_type": "code",
   "execution_count": null,
   "id": "22fcf47e-48c5-45ca-ae41-d018fce01ede",
   "metadata": {},
   "outputs": [],
   "source": [
    "pipe_stdscl = Pipeline([('std_scaler', StandardScaler())])"
   ]
  },
  {
   "cell_type": "code",
   "execution_count": null,
   "id": "3bf183cb-6bf6-4752-8564-f2ad3e8d59df",
   "metadata": {},
   "outputs": [],
   "source": [
    "X_scaled4 = pipe_stdscl.fit_transform(df_final4_sample)\n",
    "X_scaled4.shape"
   ]
  },
  {
   "cell_type": "code",
   "execution_count": null,
   "id": "b551401a-2ea3-40b1-859b-2535d7cef745",
   "metadata": {},
   "outputs": [],
   "source": []
  },
  {
   "cell_type": "code",
   "execution_count": null,
   "id": "1d7f5f98-e40a-4b47-b36b-54c6892d8d3d",
   "metadata": {},
   "outputs": [],
   "source": []
  },
  {
   "cell_type": "code",
   "execution_count": null,
   "id": "2d734512-aab5-461a-bb03-22dc91e43795",
   "metadata": {},
   "outputs": [],
   "source": [
    "Z = sch.linkage(X_scaled4, method='ward') #linkage = ward\n",
    "Z.shape"
   ]
  },
  {
   "cell_type": "code",
   "execution_count": null,
   "id": "d7338976-ad0d-417e-a5be-a9a8c5983ee9",
   "metadata": {},
   "outputs": [],
   "source": []
  },
  {
   "cell_type": "code",
   "execution_count": null,
   "id": "d2dd61fe-8b07-4d71-ad89-706771b6bef8",
   "metadata": {},
   "outputs": [],
   "source": []
  },
  {
   "cell_type": "code",
   "execution_count": null,
   "id": "afd8873d-7771-43e1-bef8-d036fb5025dd",
   "metadata": {},
   "outputs": [],
   "source": []
  },
  {
   "cell_type": "code",
   "execution_count": null,
   "id": "c2b7ca43-f7cd-4c86-bdf8-5a92ee46d491",
   "metadata": {},
   "outputs": [],
   "source": []
  },
  {
   "cell_type": "code",
   "execution_count": null,
   "id": "23937e4e-b2e0-4485-9e9e-12348914ead4",
   "metadata": {},
   "outputs": [],
   "source": []
  },
  {
   "cell_type": "code",
   "execution_count": null,
   "id": "fc08cc70-f2b1-4546-ba22-c103f933d14a",
   "metadata": {},
   "outputs": [],
   "source": []
  },
  {
   "cell_type": "code",
   "execution_count": null,
   "id": "f3c46a12-2030-4ae1-80d6-35d5404be42c",
   "metadata": {},
   "outputs": [],
   "source": []
  }
 ],
 "metadata": {
  "kernelspec": {
   "display_name": "Python 3 (ipykernel)",
   "language": "python",
   "name": "python3"
  },
  "language_info": {
   "codemirror_mode": {
    "name": "ipython",
    "version": 3
   },
   "file_extension": ".py",
   "mimetype": "text/x-python",
   "name": "python",
   "nbconvert_exporter": "python",
   "pygments_lexer": "ipython3",
   "version": "3.10.9"
  }
 },
 "nbformat": 4,
 "nbformat_minor": 5
}
